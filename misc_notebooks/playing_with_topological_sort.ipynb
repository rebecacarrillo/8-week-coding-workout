{
 "cells": [
  {
   "cell_type": "code",
   "execution_count": null,
   "id": "de80304d-7c30-48bc-9fa9-b60e39b68d9b",
   "metadata": {},
   "outputs": [],
   "source": [
    "# Topological sorting is a really interesting problem to me right now. And I really want to play with it a lot\n",
    "\n",
    "# I'm going to go ahead and try to implement a min-height tree solution.\n"
   ]
  }
 ],
 "metadata": {
  "kernelspec": {
   "display_name": "Python 3 (ipykernel)",
   "language": "python",
   "name": "python3"
  },
  "language_info": {
   "codemirror_mode": {
    "name": "ipython",
    "version": 3
   },
   "file_extension": ".py",
   "mimetype": "text/x-python",
   "name": "python",
   "nbconvert_exporter": "python",
   "pygments_lexer": "ipython3",
   "version": "3.10.6"
  }
 },
 "nbformat": 4,
 "nbformat_minor": 5
}
