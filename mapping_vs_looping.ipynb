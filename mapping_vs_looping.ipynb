{
 "cells": [
  {
   "cell_type": "code",
   "execution_count": 6,
   "id": "15135c4a-39d4-4ab3-a12d-86f3468342a7",
   "metadata": {},
   "outputs": [
    {
     "name": "stdout",
     "output_type": "stream",
     "text": [
      "[3, 6, 9, 12, 15]\n"
     ]
    }
   ],
   "source": [
    "# For, while, and map in Python\n",
    "# this is where I want to play with Python maps\n",
    "\n",
    "\n",
    "numbers = [1, 2, 3, 4, 5]\n",
    "\n",
    "# Use the map function with a lambda to double each element\n",
    "tripled_numbers = map(lambda x: x * 3, numbers)\n",
    "\n",
    "# Convert the map object to a list. What happens if we don't do this?\n",
    "# answer: it returns a map object rather than a list\n",
    "\n",
    "tripled_numbers = list(tripled_numbers)\n",
    "\n",
    "print(tripled_numbers)"
   ]
  },
  {
   "cell_type": "code",
   "execution_count": 7,
   "id": "b43dadb8-d4de-4f6c-a582-8b1ecc2f5f81",
   "metadata": {},
   "outputs": [
    {
     "name": "stdout",
     "output_type": "stream",
     "text": [
      "[3, 4, 9, 8, 15]\n"
     ]
    }
   ],
   "source": [
    "# a lot of people use loops for when there's some \n",
    "# slight more complex transformation happening to all the\n",
    "# things in an iterable.\n",
    "\n",
    "# I'm wondering if I should be doing this with a filter \n",
    "# tool if I'm really trying to be a functional programmer here\n",
    "\n",
    "\n",
    "def complex_transformation(x):\n",
    "    if x % 2 == 0:\n",
    "        return x * 2\n",
    "    else:\n",
    "        return x * 3\n",
    "\n",
    "numbers = [1, 2, 3, 4, 5]\n",
    "result = list(map(complex_transformation, numbers))\n",
    "print(result)\n"
   ]
  },
  {
   "cell_type": "code",
   "execution_count": null,
   "id": "dda2f0f1-fb02-41a0-ae11-4619ce5559d5",
   "metadata": {},
   "outputs": [],
   "source": []
  }
 ],
 "metadata": {
  "kernelspec": {
   "display_name": "Python 3 (ipykernel)",
   "language": "python",
   "name": "python3"
  },
  "language_info": {
   "codemirror_mode": {
    "name": "ipython",
    "version": 3
   },
   "file_extension": ".py",
   "mimetype": "text/x-python",
   "name": "python",
   "nbconvert_exporter": "python",
   "pygments_lexer": "ipython3",
   "version": "3.10.6"
  }
 },
 "nbformat": 4,
 "nbformat_minor": 5
}
