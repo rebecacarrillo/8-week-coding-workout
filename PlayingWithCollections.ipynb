{
 "cells": [
  {
   "cell_type": "code",
   "execution_count": 1,
   "id": "f558ecde-2a1a-477f-b128-8531020d65e3",
   "metadata": {},
   "outputs": [],
   "source": [
    "# Playing around with the built in Python library \"collections\".\n",
    "# What kind of things does the collections library help us do?\n",
    "\n",
    "# what are some other built-in libraries that are slept on in Python?\n",
    "import collections"
   ]
  },
  {
   "cell_type": "code",
   "execution_count": null,
   "id": "b67eaf3c-a2ab-442b-b514-7ed91dca2ebd",
   "metadata": {},
   "outputs": [],
   "source": []
  }
 ],
 "metadata": {
  "kernelspec": {
   "display_name": "Python 3 (ipykernel)",
   "language": "python",
   "name": "python3"
  },
  "language_info": {
   "codemirror_mode": {
    "name": "ipython",
    "version": 3
   },
   "file_extension": ".py",
   "mimetype": "text/x-python",
   "name": "python",
   "nbconvert_exporter": "python",
   "pygments_lexer": "ipython3",
   "version": "3.10.6"
  }
 },
 "nbformat": 4,
 "nbformat_minor": 5
}
