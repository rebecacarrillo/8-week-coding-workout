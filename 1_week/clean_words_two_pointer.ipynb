{
 "cells": [
  {
   "cell_type": "code",
   "execution_count": 12,
   "id": "d97d6b1e-5c6e-42b9-8db5-7f5b1c588a94",
   "metadata": {},
   "outputs": [],
   "source": [
    "# This is a two-pointer problem!! I love two-pointer patterns for a lot of problems that involve \n",
    "# traversing and evaluating a string based on particular conditions.\n",
    "\n",
    "# Today, we're going to be stripping non-alphanumeric characters from the beginning and end of a word, given a list of words.\n",
    "# Other examples of two-pointer problems include: determining whether a world is a palindrome, doing \"two sums\" \n",
    "# ( determine whether any two numbers in an array sum up to a target number), reversing a linked list, and\n",
    "# finding the longest substring without repeated characters.\n",
    "\n",
    "# So here's our problem statement: \n",
    "\n",
    "# Given an array of words, strip any non-alphanumeric characters from the begininng or end of the word\n",
    "# and return the cleaned list.\n",
    "\n",
    "# eg: \"$%2fhello%*\" = > \"hello\"\n",
    "\n",
    "# we don't know what the characters might be, and we need to preserve non-alphanumeric characters within a word.\n",
    "\n",
    "def strip_outside_nonalnum(word:str):\n",
    "\n",
    "    if not word:\n",
    "        return word\n",
    "        \n",
    "    # set the low pointer. \"Start\" refers to the index position we're keeping track of. This is how enumerate works\n",
    "    # callling \"enumerate\" on a string will return every element as well as the index position of that element.\n",
    "    # I am not positive regarding whether or not enumerate in python is done greedily or lazily.\n",
    "\n",
    "    # isalnum() is a handy check for whether an element is alpha numberica.\n",
    "    for start, c in enumerate(word):\n",
    "        if c.isalnum():\n",
    "            break # this allows us to stop when we hit the body of the word we're trying to preserve\n",
    "            \n",
    "    # set the high pointer        \n",
    "    for end, c in enumerate(word[::-1]): # side note: [::-1] is a quick and pythonic way to reverse a list\n",
    "        if c.isalnum():\n",
    "            break\n",
    "\n",
    "    return word[start: len(word) - end] # this uses python slicing, we use the index position to know where to chop\n",
    "\n",
    "\n",
    "def wrapper(list_of_words):\n",
    "    \n",
    "    stripped_list = [strip_outside_nonalnum(s) for s in list_of_words] # List comprehension - another awesome python thing! \n",
    "    return stripped_list\n",
    "    \n"
   ]
  },
  {
   "cell_type": "code",
   "execution_count": null,
   "id": "1e493abf-6350-40b3-92d3-0a1ced6dd3af",
   "metadata": {},
   "outputs": [],
   "source": [
    "# Your turn! Implement this function in your own words. Avoid looking at the cell above :) \n",
    "\n",
    "# important tools/hints: \n",
    "    # - .isalnum()\n",
    "    # - 2 pointer pattern\n",
    "    # enumerate"
   ]
  },
  {
   "cell_type": "code",
   "execution_count": 47,
   "id": "9d1d70c1-0a21-4ffc-b949-5623dc8c3c45",
   "metadata": {},
   "outputs": [],
   "source": [
    "list_to_strip = [\"%6word98\", \"!!refe^rree`'\", \"//why\", \"00000\", \"%^^#\", \"salami\"]\n",
    "expected_output = [\"6word98\", \"refe^rree\", \"why\", \"00000\", \"\", \"salami\"]"
   ]
  },
  {
   "cell_type": "code",
   "execution_count": 51,
   "id": "988dbbf1-ef8e-444c-a807-346c70fea130",
   "metadata": {},
   "outputs": [
    {
     "name": "stdout",
     "output_type": "stream",
     "text": [
      "Another amazing pythonic adventure!\n"
     ]
    }
   ],
   "source": [
    "assert wrapper(list_to_strip) == expected_output\n",
    "print(\"Another amazing pythonic adventure!\")\n",
    "\n",
    "c"
   ]
  }
 ],
 "metadata": {
  "kernelspec": {
   "display_name": "Python 3 (ipykernel)",
   "language": "python",
   "name": "python3"
  },
  "language_info": {
   "codemirror_mode": {
    "name": "ipython",
    "version": 3
   },
   "file_extension": ".py",
   "mimetype": "text/x-python",
   "name": "python",
   "nbconvert_exporter": "python",
   "pygments_lexer": "ipython3",
   "version": "3.10.6"
  }
 },
 "nbformat": 4,
 "nbformat_minor": 5
}
