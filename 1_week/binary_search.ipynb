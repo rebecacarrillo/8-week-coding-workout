{
 "cells": [
  {
   "cell_type": "code",
   "execution_count": null,
   "id": "1e226e42-9831-4a7a-8640-14c87f4f272c",
   "metadata": {},
   "outputs": [],
   "source": [
    "# BINARY SEARCH on an ARRAY woo (as opposed to a graph).\n",
    "# side Note: when we're handling a graph structure instead of an array structure, \n",
    "# we do either a BFS or DFS instead of a binary search, depending on the problem space."
   ]
  },
  {
   "cell_type": "code",
   "execution_count": null,
   "id": "bae2f8d0-b165-4297-8e0d-6af677592ade",
   "metadata": {},
   "outputs": [],
   "source": [
    "\n",
    "# okay, when we are writing a new function, it's helpful to first define the starting conditions, then define the \n",
    "# breaking conditions.\n",
    "\n",
    "# in the case of a binary search, our starting conditions will be like this:\n",
    "# our input array will be in its orginal form. The target will be defined as a possible\n",
    "# element of the input array.\n",
    "\n",
    "# our terminating conditions will be one of two outcomes:\n",
    "# first possible outcome: we find the target in the array, return its index position and terminate\n",
    "# second possible outcome: after evaluating the entire array with a binary search, we will\n",
    "# encounter a state in which no further elements can be fed to the comparison operator; \n",
    "# this state implies that the target isn't there. We return \"not found\".\n",
    "\n",
    "\n",
    "# \"but wait\", you might say, \"we're in python now! Can't we just do a 'not in' to check \n",
    "# whether it's in there?\n",
    "\n",
    "# we might! This is part of why its important to understand the time and space complexity of these\n",
    "# english-esque python operations. How does \"in\" or \"not in\" do, performance wise?\n",
    "\n",
    "# so,this is called checking \"membership\". In python, checking membership has linear time complexity \n",
    "# O(n) in most cases, depending on the data structure we're evaluating. Doing this operator on\n",
    "# lists, tuples, or strings (strings in python are arrays) is linear. \n",
    "\n",
    "# let's talk about hashmaps - dicts, in python. Usually, doing\n",
    "# the \"in\" operator on dicts has constant (o(1) time complexity (woo!). \n",
    "# The exception is if we haven't planned for collisions in the hashmap (dict)\n",
    "# when we scale up, if we don't anticipate collisions, we'll have worse time complexity. \n",
    "# our worst case is linear, which isn't terrible, but does make a difference when we scale up.\n",
    "\n",
    "\n",
    "\n",
    "def bin_search(arr, target):\n",
    "\n",
    "    # starting conditions: the array is intact\n",
    "    # the target is evaluated and understood.\n",
    "    # I like using a 2-pointer pattern for this, so I'm going to set my 2 pointers\n",
    "    array_length = len(arr)\n",
    "    \n",
    "    low = arr[0]\n",
    "    high = arr[array_length - 1] \n",
    "\n",
    "    #terminating conditions: we find the target or reach the end of the bin_search process\n",
    "    # when there are no further parts to do bin_search on\n",
    "\n",
    "    #I do sorted instead of sort because it has better space complexity.\n",
    "    sorted_array = arr.sorted()\n",
    "\n",
    "    # we need to pick a midpoint. Refer to it by its index position\n",
    "\n",
    "    midway_index_position = array_length // 2.\n",
    "    \n",
    "    \n",
    "    \n",
    "    "
   ]
  },
  {
   "cell_type": "code",
   "execution_count": null,
   "id": "7414ae2f-3a2f-4962-8c67-23f85c01fb35",
   "metadata": {},
   "outputs": [],
   "source": []
  }
 ],
 "metadata": {
  "kernelspec": {
   "display_name": "Python 3 (ipykernel)",
   "language": "python",
   "name": "python3"
  },
  "language_info": {
   "codemirror_mode": {
    "name": "ipython",
    "version": 3
   },
   "file_extension": ".py",
   "mimetype": "text/x-python",
   "name": "python",
   "nbconvert_exporter": "python",
   "pygments_lexer": "ipython3",
   "version": "3.10.6"
  }
 },
 "nbformat": 4,
 "nbformat_minor": 5
}
