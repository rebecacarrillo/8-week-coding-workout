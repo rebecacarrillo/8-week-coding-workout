{
 "cells": [
  {
   "cell_type": "code",
   "execution_count": 1,
   "id": "6ef3c534-e028-4d40-8559-7356606079b5",
   "metadata": {},
   "outputs": [],
   "source": [
    "# Let's assign new keys to an old dictionary!\n",
    "\n",
    "# lets say our mapping of neopets is like this:\n",
    "old_dict = {\"a\": \"eeryie\", \"2\":\"aisha\", \"3\":\"cybunny\"}\n",
    "\n",
    "# (yes, these are all species of neopets. Long live neopets dot com).\n",
    "\n",
    "# the keys here are kind of inconsistent and unclear for humans. \n",
    "# In terms of time and space complexity, the map is still totally functional even with bad naming, BUT\n",
    "# humans are the ones who maintain these systems, and the easier we make it for the humans tasked with\n",
    "# maintaining things, the easier our lives will be, and the easier the lives of our descendants will be.\n",
    "\n",
    "# So, lets get this naming looking a little more functional. First, let's decide what the keys should look like.\n",
    "\n",
    "new_keys = [\"a\", \"b\", \"c\"]\n",
    "\n",
    "# note: if I had chosen instead to use numbers iterating by one as a key,\n",
    "# I could do this by using \"range\" and a generator. I want to keep this lesson truly bitesized, so \n",
    "# we'll push that to the side for now.\n",
    "\n",
    "# Okay, so we have our old dict, our new keys ...what are we missing? \n",
    "# Oh right! A method or function to actually do the change :). Side note: \"method\" is for methods of a class,\n",
    "# \"function\" can be standalone. We're implementing a function right now.\n"
   ]
  },
  {
   "cell_type": "code",
   "execution_count": 7,
   "id": "662cce64-ed36-4324-b6a4-4a89c53f98f1",
   "metadata": {},
   "outputs": [],
   "source": [
    "# Okay! Let's do it. First, select the cell above and hit \"shift + enter\". This evaluates the code block \n",
    "# and gives us access to our two new variables.\n",
    "\n",
    "# Done \"shift + enter\"ing?. Cool. Let's do this\n",
    "\n",
    "def give_old_dict_new_keys(old_dict, new_keys):\n",
    "    \"\"\"\n",
    "    This is a doc string. Every function you write should have one\n",
    "    in PyCharm (we are not currently in PyCharm), typing these three quotes \n",
    "    generates a docstring like the one below\n",
    "    \n",
    "    @param: old_dict - a dictionary to be modified with new keys\n",
    "    @param: new_keys - an array containing the new keys\n",
    "\n",
    "    returns a modified dict called \"new_dict\"\n",
    "    \"\"\"\n",
    "    \n",
    "    # we're using \"zip\" and casting the result to a dictionary\n",
    "    modified_dict = (dict(zip(new_keys, old_dict.values())))  \n",
    "\n",
    "    return modified_dict"
   ]
  },
  {
   "cell_type": "code",
   "execution_count": 18,
   "id": "cbdad598-8d77-4c6e-83f9-c36a679c3850",
   "metadata": {},
   "outputs": [
    {
     "name": "stdout",
     "output_type": "stream",
     "text": [
      "here's the original dictionary : {'a': 'eeryie', '2': 'aisha', '3': 'cybunny'}\n",
      "here is our output {'a': 'eeryie', 'b': 'aisha', 'c': 'cybunny'}\n"
     ]
    }
   ],
   "source": [
    "# Here's our little testing block! \n",
    "\n",
    "# This is a logging line. that is why I'm casting to string here. \n",
    "# It's just to make the life of the human reading this a little easier\n",
    "print(\"here's the original dictionary : \" + str(old_dict))\n",
    "print(\"here is our output \" + str(give_old_dict_new_keys(old_dict, new_keys)))\n",
    "\n",
    "assert give_old_dict_new_keys(old_dict, new_keys) == {'a': 'eeryie', 'b': 'aisha', 'c': 'cybunny'}"
   ]
  },
  {
   "cell_type": "code",
   "execution_count": 20,
   "id": "c4b898f8-369e-449e-bf9f-c169feddf881",
   "metadata": {},
   "outputs": [
    {
     "name": "stdout",
     "output_type": "stream",
     "text": [
      "he's a computer genius!\n"
     ]
    }
   ],
   "source": [
    "# Amazing job! I'm so proud of you :) \n",
    "\n",
    "# Now, let's try implementing it oursleves *without looking at the above cells unless absolutely necessary*\n",
    "# write the same function in your own words, including the addition of a doc string and logging lines.\n",
    "\n",
    "# Fight the urge to copy and paste. No pain, no gain -- you totally understand this, \n",
    "# because the same concept exists in exercise!\n",
    "# We're repping our set of \"build this program\" :)\n",
    "\n",
    "# extra credit: write it on paper, by hand, and make a flash card that asks \"In python, how can I give an old dict new keys?\"\n",
    "# Add it to your flashcard deck and ask yourself a couple times a day. Spaced repitition is cool as hell!\n",
    "\n",
    "# love you so much\n",
    "\n",
    "print (\"he's a computer genius!\")"
   ]
  },
  {
   "cell_type": "code",
   "execution_count": null,
   "id": "f09770d6-3c6b-431b-a8f8-59dfe2c34b0b",
   "metadata": {},
   "outputs": [],
   "source": []
  }
 ],
 "metadata": {
  "kernelspec": {
   "display_name": "Python 3 (ipykernel)",
   "language": "python",
   "name": "python3"
  },
  "language_info": {
   "codemirror_mode": {
    "name": "ipython",
    "version": 3
   },
   "file_extension": ".py",
   "mimetype": "text/x-python",
   "name": "python",
   "nbconvert_exporter": "python",
   "pygments_lexer": "ipython3",
   "version": "3.10.6"
  }
 },
 "nbformat": 4,
 "nbformat_minor": 5
}
